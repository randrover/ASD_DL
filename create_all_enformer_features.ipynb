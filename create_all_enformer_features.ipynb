{
 "cells": [
  {
   "cell_type": "code",
   "execution_count": 3,
   "metadata": {},
   "outputs": [],
   "source": [
    "import zarr\n",
    "import numpy as np\n",
    "import pandas as pd"
   ]
  },
  {
   "cell_type": "code",
   "execution_count": 2,
   "metadata": {},
   "outputs": [],
   "source": [
    "enformer = pd.read_table('/data1/deepLN/Enformer/Korean_CSM._enformer_5313_features.txt')"
   ]
  },
  {
   "cell_type": "code",
   "execution_count": 3,
   "metadata": {},
   "outputs": [],
   "source": [
    "dnv = pd.read_table('/home/yjkim98/motif_analysis/Korean_CSM.WGS.autosomal_DNV.178samples.sorted.20240426.vcf')"
   ]
  },
  {
   "cell_type": "code",
   "execution_count": 4,
   "metadata": {},
   "outputs": [],
   "source": [
    "dnv = dnv.drop(columns=['#CHROM', 'POS', 'REF', 'ALT', 'QUAL', 'FILTER'])"
   ]
  },
  {
   "cell_type": "code",
   "execution_count": 5,
   "metadata": {},
   "outputs": [],
   "source": [
    "dnv.rename(columns={'ID': 'variant'}, inplace=True)"
   ]
  },
  {
   "cell_type": "code",
   "execution_count": 6,
   "metadata": {},
   "outputs": [],
   "source": [
    "dnv['samples'] = dnv['INFO'].str.extract(r'SAMPLE=([^;]+)')"
   ]
  },
  {
   "cell_type": "code",
   "execution_count": 7,
   "metadata": {},
   "outputs": [],
   "source": [
    "dnv = dnv.drop(columns=['INFO'])"
   ]
  },
  {
   "cell_type": "code",
   "execution_count": 8,
   "metadata": {},
   "outputs": [
    {
     "data": {
      "text/html": [
       "<div>\n",
       "<style scoped>\n",
       "    .dataframe tbody tr th:only-of-type {\n",
       "        vertical-align: middle;\n",
       "    }\n",
       "\n",
       "    .dataframe tbody tr th {\n",
       "        vertical-align: top;\n",
       "    }\n",
       "\n",
       "    .dataframe thead th {\n",
       "        text-align: right;\n",
       "    }\n",
       "</style>\n",
       "<table border=\"1\" class=\"dataframe\">\n",
       "  <thead>\n",
       "    <tr style=\"text-align: right;\">\n",
       "      <th></th>\n",
       "      <th>variant</th>\n",
       "      <th>samples</th>\n",
       "    </tr>\n",
       "  </thead>\n",
       "  <tbody>\n",
       "    <tr>\n",
       "      <th>0</th>\n",
       "      <td>chr1:1196415:T:C</td>\n",
       "      <td>IBS-ASD-17104-blood-wgs-ILLUMINA</td>\n",
       "    </tr>\n",
       "    <tr>\n",
       "      <th>1</th>\n",
       "      <td>chr1:1267957:C:T</td>\n",
       "      <td>IBS-ASD-17143-blood-wgs-ILLUMINA</td>\n",
       "    </tr>\n",
       "    <tr>\n",
       "      <th>2</th>\n",
       "      <td>chr1:1339884:A:ACAGCCGCATGTCCCCCCGCAGCCCCCCCAG...</td>\n",
       "      <td>IBS-ASD-18513-blood-wgs-ILLUMINA</td>\n",
       "    </tr>\n",
       "    <tr>\n",
       "      <th>3</th>\n",
       "      <td>chr1:1778916:G:T</td>\n",
       "      <td>IBS-ASD-20023-blood-wgs-ILLUMINA</td>\n",
       "    </tr>\n",
       "    <tr>\n",
       "      <th>4</th>\n",
       "      <td>chr1:2178615:C:T</td>\n",
       "      <td>IBS-ASD-16603-blood-wgs-ILLUMINA</td>\n",
       "    </tr>\n",
       "    <tr>\n",
       "      <th>...</th>\n",
       "      <td>...</td>\n",
       "      <td>...</td>\n",
       "    </tr>\n",
       "    <tr>\n",
       "      <th>12286</th>\n",
       "      <td>chr22:49965151:C:T</td>\n",
       "      <td>IBS-ASD-19704-blood-wgs-ILLUMINA</td>\n",
       "    </tr>\n",
       "    <tr>\n",
       "      <th>12287</th>\n",
       "      <td>chr22:50055947:G:A</td>\n",
       "      <td>IBS-ASD-16603-blood-wgs-ILLUMINA</td>\n",
       "    </tr>\n",
       "    <tr>\n",
       "      <th>12288</th>\n",
       "      <td>chr22:50482853:C:T</td>\n",
       "      <td>IBS-ASD-18415-blood-wgs-ILLUMINA</td>\n",
       "    </tr>\n",
       "    <tr>\n",
       "      <th>12289</th>\n",
       "      <td>chr22:50484353:G:A</td>\n",
       "      <td>IBS-ASD-19903-blood-wgs-ILLUMINA</td>\n",
       "    </tr>\n",
       "    <tr>\n",
       "      <th>12290</th>\n",
       "      <td>chr22:50714932:TGCTG:T</td>\n",
       "      <td>IBS-ASD-17413-blood-wgs-ILLUMINA</td>\n",
       "    </tr>\n",
       "  </tbody>\n",
       "</table>\n",
       "<p>12291 rows × 2 columns</p>\n",
       "</div>"
      ],
      "text/plain": [
       "                                                 variant  \\\n",
       "0                                       chr1:1196415:T:C   \n",
       "1                                       chr1:1267957:C:T   \n",
       "2      chr1:1339884:A:ACAGCCGCATGTCCCCCCGCAGCCCCCCCAG...   \n",
       "3                                       chr1:1778916:G:T   \n",
       "4                                       chr1:2178615:C:T   \n",
       "...                                                  ...   \n",
       "12286                                 chr22:49965151:C:T   \n",
       "12287                                 chr22:50055947:G:A   \n",
       "12288                                 chr22:50482853:C:T   \n",
       "12289                                 chr22:50484353:G:A   \n",
       "12290                             chr22:50714932:TGCTG:T   \n",
       "\n",
       "                                samples  \n",
       "0      IBS-ASD-17104-blood-wgs-ILLUMINA  \n",
       "1      IBS-ASD-17143-blood-wgs-ILLUMINA  \n",
       "2      IBS-ASD-18513-blood-wgs-ILLUMINA  \n",
       "3      IBS-ASD-20023-blood-wgs-ILLUMINA  \n",
       "4      IBS-ASD-16603-blood-wgs-ILLUMINA  \n",
       "...                                 ...  \n",
       "12286  IBS-ASD-19704-blood-wgs-ILLUMINA  \n",
       "12287  IBS-ASD-16603-blood-wgs-ILLUMINA  \n",
       "12288  IBS-ASD-18415-blood-wgs-ILLUMINA  \n",
       "12289  IBS-ASD-19903-blood-wgs-ILLUMINA  \n",
       "12290  IBS-ASD-17413-blood-wgs-ILLUMINA  \n",
       "\n",
       "[12291 rows x 2 columns]"
      ]
     },
     "execution_count": 8,
     "metadata": {},
     "output_type": "execute_result"
    }
   ],
   "source": [
    "dnv"
   ]
  },
  {
   "cell_type": "code",
   "execution_count": 9,
   "metadata": {},
   "outputs": [],
   "source": [
    "# 'id' 열을 'variant'로 이름 변경\n",
    "enformer.rename(columns={'id': 'variant'}, inplace=True)"
   ]
  },
  {
   "cell_type": "code",
   "execution_count": 2,
   "metadata": {},
   "outputs": [
    {
     "ename": "NameError",
     "evalue": "name 'enformer' is not defined",
     "output_type": "error",
     "traceback": [
      "\u001b[0;31m---------------------------------------------------------------------------\u001b[0m",
      "\u001b[0;31mNameError\u001b[0m                                 Traceback (most recent call last)",
      "Cell \u001b[0;32mIn[2], line 2\u001b[0m\n\u001b[1;32m      1\u001b[0m \u001b[38;5;66;03m# 'chrom', 'pos', 'ref', 'alt' 열 삭제\u001b[39;00m\n\u001b[0;32m----> 2\u001b[0m \u001b[43menformer\u001b[49m\u001b[38;5;241m.\u001b[39mdrop(columns\u001b[38;5;241m=\u001b[39m[\u001b[38;5;124m'\u001b[39m\u001b[38;5;124mchrom\u001b[39m\u001b[38;5;124m'\u001b[39m, \u001b[38;5;124m'\u001b[39m\u001b[38;5;124mpos\u001b[39m\u001b[38;5;124m'\u001b[39m, \u001b[38;5;124m'\u001b[39m\u001b[38;5;124mref\u001b[39m\u001b[38;5;124m'\u001b[39m, \u001b[38;5;124m'\u001b[39m\u001b[38;5;124malt\u001b[39m\u001b[38;5;124m'\u001b[39m], inplace\u001b[38;5;241m=\u001b[39m\u001b[38;5;28;01mTrue\u001b[39;00m)\n",
      "\u001b[0;31mNameError\u001b[0m: name 'enformer' is not defined"
     ]
    }
   ],
   "source": [
    "# 'chrom', 'pos', 'ref', 'alt' 열 삭제\n",
    "enformer.drop(columns=['chrom', 'pos', 'ref', 'alt'], inplace=True)"
   ]
  },
  {
   "cell_type": "code",
   "execution_count": 11,
   "metadata": {},
   "outputs": [],
   "source": [
    "# DataFrame을 고유(unique)하게 만듦 (중복 행 제거)\n",
    "enformer = enformer.drop_duplicates()"
   ]
  },
  {
   "cell_type": "code",
   "execution_count": 12,
   "metadata": {},
   "outputs": [],
   "source": [
    "# 'variant' 열을 기준으로 dnv와 enformer DataFrame을 병합\n",
    "merged_df = pd.merge(dnv, enformer, on='variant', how='inner')"
   ]
  },
  {
   "cell_type": "code",
   "execution_count": 13,
   "metadata": {},
   "outputs": [
    {
     "name": "stdout",
     "output_type": "stream",
     "text": [
      "Load Enformer\n",
      "(954915, 5313)\n"
     ]
    }
   ],
   "source": [
    "print('Load Enformer', flush=True)\n",
    "\n",
    "enformer_path = '/data1/deepLN/Enformer/enformer_result_kor_sfari_mssng.zarr'\n",
    "\n",
    "root = zarr.open(enformer_path, mode='r')\n",
    "mat = root['data']\n",
    "column_names1 = root['metadata'].attrs['columns']\n",
    "var_ids = root['metadata'].attrs['variant']\n",
    "samples = root['metadata'].attrs['samples']\n",
    "\n",
    "print(mat.shape, flush=True)\n",
    "\n",
    "# Create a DataFrame\n",
    "enformer_d = pd.DataFrame(\n",
    "    data=mat,\n",
    "    columns=column_names1\n",
    ")\n",
    "\n",
    "enformer_d['variant'] = var_ids\n",
    "enformer_d['samples'] = samples"
   ]
  },
  {
   "cell_type": "code",
   "execution_count": 14,
   "metadata": {},
   "outputs": [],
   "source": [
    "# 두 DataFrame의 열 순서를 맞춘 후 행 결합\n",
    "merged_df = merged_df[enformer_d.columns]  # enformer의 열 순서에 맞게 merged_df 재정렬\n",
    "combined_df = pd.concat([enformer_d, merged_df], ignore_index=True)  # 행 결합"
   ]
  },
  {
   "cell_type": "code",
   "execution_count": 16,
   "metadata": {},
   "outputs": [
    {
     "name": "stdout",
     "output_type": "stream",
     "text": [
      "Data saved to /data1/deepLN/Enformer/enformer_result_kor_909_sfari_mssng.zarr\n"
     ]
    }
   ],
   "source": [
    "output_path = '/data1/deepLN/Enformer/enformer_result_kor_909_sfari_mssng.zarr'\n",
    "root = zarr.open(output_path, mode='w')\n",
    "\n",
    "# Create metadata group and add attributes\n",
    "root.create_group('metadata')\n",
    "root['metadata'].attrs['variant'] = combined_df['variant'].tolist()\n",
    "sample_ids = combined_df['samples'].tolist()\n",
    "root['metadata'].attrs['samples'] = sample_ids\n",
    "\n",
    "# Drop non-numeric columns and get column names\n",
    "combined_dataframe = combined_df.drop(['variant', 'samples'], axis=1)\n",
    "column_names = combined_dataframe.columns.tolist()\n",
    "root['metadata'].attrs['columns'] = column_names\n",
    "\n",
    "# Ensure data is in float format and create dataset\n",
    "root.create_dataset('data', data=combined_dataframe.values, chunks=(1000, 1000), dtype='float')\n",
    "print(f'Data saved to {output_path}', flush=True)"
   ]
  }
 ],
 "metadata": {
  "kernelspec": {
   "display_name": "train",
   "language": "python",
   "name": "python3"
  },
  "language_info": {
   "codemirror_mode": {
    "name": "ipython",
    "version": 3
   },
   "file_extension": ".py",
   "mimetype": "text/x-python",
   "name": "python",
   "nbconvert_exporter": "python",
   "pygments_lexer": "ipython3",
   "version": "3.9.20"
  }
 },
 "nbformat": 4,
 "nbformat_minor": 2
}
