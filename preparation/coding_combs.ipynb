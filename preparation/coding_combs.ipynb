{
 "cells": [
  {
   "cell_type": "code",
   "execution_count": null,
   "metadata": {},
   "outputs": [],
   "source": [
    "import pandas as pd\n",
    "import numpy as np\n",
    "\n",
    "df = pd.read_table('table.kor_sfari_mssng.DNV_annotated.coding_combinations.20250226.tsv.gz')\n",
    "df.rename(columns=lambda x: x.replace(\"is_\", \"\") if \"is_\" in x else x, inplace=True)\n",
    "\n",
    "# Define column groups\n",
    "celltype_cols = ['MGE.dev', 'CGE.dev', 'AST', 'L2.3', 'L4', 'L5', 'L5.6.IT', 'L6', 'MG', 'OL', 'END', 'PER', 'SP']\n",
    "asd_gene_cols = ['DDD285', 'CHD8Common', 'FMRPDarnell', 'ASD185']\n",
    "varianttype_cols_coding_1 = ['PTV', 'modMIS', 'dMIS']\n",
    "varianttype_cols_coding_0 = ['promoter', 'UTR']"
   ]
  },
  {
   "cell_type": "code",
   "execution_count": null,
   "metadata": {},
   "outputs": [],
   "source": [
    "# Function to generate combinations\n",
    "def generate_combinations(row):\n",
    "    A_matches = [col for col in celltype_cols if row[col] == 1] or [\"None\"]\n",
    "    B_matches = [col for col in asd_gene_cols if row[col] == 1] or [\"None\"]\n",
    "    \n",
    "    if row['coding'] == 1:\n",
    "        C_matches = [col for col in varianttype_cols_coding_1 if row[col] == 1] or [\"None\"]\n",
    "    else:\n",
    "        C_matches = [col for col in varianttype_cols_coding_0 if row[col] == 1] or [\"None\"]\n",
    "    \n",
    "    combinations = [f\"{A}_{B}_{C}\" for A in A_matches for B in B_matches for C in C_matches]\n",
    "    return combinations\n",
    "\n",
    "# Apply function\n",
    "df['combinations'] = df.apply(generate_combinations, axis=1)\n",
    "all_combinations = set(comb for row_combs in df['combinations'] for comb in row_combs)"
   ]
  },
  {
   "cell_type": "code",
   "execution_count": null,
   "metadata": {},
   "outputs": [],
   "source": [
    "# Create new binary columns\n",
    "temp_df = pd.DataFrame(0, index=df.index, columns=list(all_combinations))\n",
    "for idx, row in df.iterrows():\n",
    "    for comb in row['combinations']:\n",
    "        temp_df.at[idx, comb] = 1\n",
    "\n",
    "df = pd.concat([df, temp_df], axis=1)\n",
    "df = df.drop(columns=['combinations'])\n",
    "columns_to_remove = celltype_cols + asd_gene_cols + varianttype_cols_coding_1 + varianttype_cols_coding_0 + ['gene_id', 'gene_name']\n",
    "df = df.drop(columns=columns_to_remove)\n",
    "\n",
    "df.to_csv(\"kor_sfari_mssng.DNV_annotated.coding_combinations.agg.20250227.tsv.gz\", sep=\"\\t\", index=False, compression=\"gzip\")"
   ]
  },
  {
   "cell_type": "code",
   "execution_count": null,
   "metadata": {},
   "outputs": [],
   "source": [
    "counts_by_sample_coding_1 = df[df['coding'] == 1].drop(columns=['variant', 'coding']).groupby('SAMPLE').sum()\n",
    "counts_by_sample_coding_1 = counts_by_sample_coding_1.add_prefix('cd_')\n",
    "proportions_coding_1 = df[df['coding'] == 1].drop(columns=['variant', 'coding']).groupby('SAMPLE').apply(lambda x: (x == 1).mean())\n",
    "proportions_coding_1 = proportions_coding_1.add_prefix('prop_cd_')\n",
    "\n",
    "counts_by_sample_coding_0 = df[df['coding'] == 0].drop(columns=['variant', 'coding']).groupby('SAMPLE').sum()\n",
    "counts_by_sample_coding_0 = counts_by_sample_coding_0.add_prefix('nc_')\n",
    "proportions_coding_0 = df[df['coding'] == 0].drop(columns=['variant', 'coding']).groupby('SAMPLE').apply(lambda x: (x == 1).mean())\n",
    "proportions_coding_0 = proportions_coding_0.add_prefix('prop_nc_')\n",
    "\n",
    "counts_combined = pd.concat([counts_by_sample_coding_1, counts_by_sample_coding_0], axis=1)\n",
    "counts_combined_with_proportions = pd.concat([counts_combined, proportions_coding_1, proportions_coding_0], axis=1)\n",
    "\n",
    "# Remove unwanted columns\n",
    "for col in list(counts_combined_with_proportions.columns):\n",
    "    if any(f\"nc_\" in col and vt in col for vt in varianttype_cols_coding_1) or \\\n",
    "       any(f\"cd_\" in col and vt in col for vt in varianttype_cols_coding_0):\n",
    "        counts_combined_with_proportions = counts_combined_with_proportions.drop(columns=[col])\n",
    "\n",
    "counts_combined_with_proportions = counts_combined_with_proportions.drop(columns=[col for col in counts_combined_with_proportions.columns if 'SAMPLE' in col])\n",
    "counts_combined_with_proportions = counts_combined_with_proportions.reset_index().fillna(0)"
   ]
  },
  {
   "cell_type": "code",
   "execution_count": null,
   "metadata": {},
   "outputs": [],
   "source": [
    "# PTV가 포함된 컬럼 출력\n",
    "ptv_columns = [col for col in counts_combined_with_proportions.columns if \"promoter\" in col]\n",
    "print(ptv_columns)\n"
   ]
  },
  {
   "cell_type": "code",
   "execution_count": null,
   "metadata": {},
   "outputs": [],
   "source": [
    "counts_combined_with_proportions.to_csv(\"kor_sfari_mssng.coding_combinations.agg_by_sample.20250307.tsv.gz\", sep=\"\\t\", index=False, compression=\"gzip\")"
   ]
  }
 ],
 "metadata": {
  "kernelspec": {
   "display_name": "cluster",
   "language": "python",
   "name": "python3"
  },
  "language_info": {
   "codemirror_mode": {
    "name": "ipython",
    "version": 3
   },
   "file_extension": ".py",
   "mimetype": "text/x-python",
   "name": "python",
   "nbconvert_exporter": "python",
   "pygments_lexer": "ipython3",
   "version": "3.10.15"
  }
 },
 "nbformat": 4,
 "nbformat_minor": 2
}
