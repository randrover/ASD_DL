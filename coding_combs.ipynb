{
 "cells": [
  {
   "cell_type": "code",
   "execution_count": 26,
   "metadata": {},
   "outputs": [],
   "source": [
    "import pandas as pd\n",
    "import numpy as np\n",
    "\n",
    "df = pd.read_table('/data2/deepLN/table.kor_sfari_mssng.DNV_annotated.coding_combinations.20250226.tsv.gz')\n",
    "df.rename(columns=lambda x: x.replace(\"is_\", \"\") if \"is_\" in x else x, inplace=True)\n",
    "\n",
    "# Define column groups\n",
    "celltype_cols = ['MGE.dev', 'CGE.dev', 'AST', 'L2.3', 'L4', 'L5', 'L5.6.IT', 'L6', 'MG', 'OL', 'END', 'PER', 'SP']\n",
    "asd_gene_cols = ['DDD285', 'CHD8Common', 'FMRPDarnell', 'ASD185']\n",
    "varianttype_cols_coding_1 = ['PTV', 'modMIS', 'dMIS']  # coding == 1에서만 카운트\n",
    "varianttype_cols_coding_0 = ['promoter', 'UTR']  # coding == 0에서만 카운트"
   ]
  },
  {
   "cell_type": "code",
   "execution_count": 27,
   "metadata": {},
   "outputs": [],
   "source": [
    "# Function to generate combinations\n",
    "def generate_combinations(row):\n",
    "    A_matches = [col for col in celltype_cols if row[col] == 1] or [\"None\"]\n",
    "    B_matches = [col for col in asd_gene_cols if row[col] == 1] or [\"None\"]\n",
    "    \n",
    "    if row['coding'] == 1:\n",
    "        C_matches = [col for col in varianttype_cols_coding_1 if row[col] == 1] or [\"None\"]\n",
    "    else:\n",
    "        C_matches = [col for col in varianttype_cols_coding_0 if row[col] == 1] or [\"None\"]\n",
    "    \n",
    "    combinations = [f\"{A}_{B}_{C}\" for A in A_matches for B in B_matches for C in C_matches]\n",
    "    return combinations\n",
    "\n",
    "# Apply function\n",
    "df['combinations'] = df.apply(generate_combinations, axis=1)\n",
    "all_combinations = set(comb for row_combs in df['combinations'] for comb in row_combs)"
   ]
  },
  {
   "cell_type": "code",
   "execution_count": 28,
   "metadata": {},
   "outputs": [],
   "source": [
    "# Create new binary columns\n",
    "temp_df = pd.DataFrame(0, index=df.index, columns=list(all_combinations))\n",
    "for idx, row in df.iterrows():\n",
    "    for comb in row['combinations']:\n",
    "        temp_df.at[idx, comb] = 1\n",
    "\n",
    "df = pd.concat([df, temp_df], axis=1)\n",
    "df = df.drop(columns=['combinations'])\n",
    "columns_to_remove = celltype_cols + asd_gene_cols + varianttype_cols_coding_1 + varianttype_cols_coding_0 + ['gene_id', 'gene_name']\n",
    "df = df.drop(columns=columns_to_remove)\n",
    "\n",
    "df.to_csv(\"/data2/deepLN/kor_sfari_mssng.DNV_annotated.coding_combinations.agg.20250227.tsv.gz\", sep=\"\\t\", index=False, compression=\"gzip\")"
   ]
  },
  {
   "cell_type": "code",
   "execution_count": 29,
   "metadata": {},
   "outputs": [
    {
     "name": "stderr",
     "output_type": "stream",
     "text": [
      "/tmp/ipykernel_2349702/3091310460.py:3: DeprecationWarning: DataFrameGroupBy.apply operated on the grouping columns. This behavior is deprecated, and in a future version of pandas the grouping columns will be excluded from the operation. Either pass `include_groups=False` to exclude the groupings or explicitly select the grouping columns after groupby to silence this warning.\n",
      "  proportions_coding_1 = df[df['coding'] == 1].drop(columns=['variant', 'coding']).groupby('SAMPLE').apply(lambda x: (x == 1).mean())\n",
      "/tmp/ipykernel_2349702/3091310460.py:8: DeprecationWarning: DataFrameGroupBy.apply operated on the grouping columns. This behavior is deprecated, and in a future version of pandas the grouping columns will be excluded from the operation. Either pass `include_groups=False` to exclude the groupings or explicitly select the grouping columns after groupby to silence this warning.\n",
      "  proportions_coding_0 = df[df['coding'] == 0].drop(columns=['variant', 'coding']).groupby('SAMPLE').apply(lambda x: (x == 1).mean())\n"
     ]
    }
   ],
   "source": [
    "counts_by_sample_coding_1 = df[df['coding'] == 1].drop(columns=['variant', 'coding']).groupby('SAMPLE').sum()\n",
    "counts_by_sample_coding_1 = counts_by_sample_coding_1.add_prefix('cd_')\n",
    "proportions_coding_1 = df[df['coding'] == 1].drop(columns=['variant', 'coding']).groupby('SAMPLE').apply(lambda x: (x == 1).mean())\n",
    "proportions_coding_1 = proportions_coding_1.add_prefix('prop_cd_')\n",
    "\n",
    "counts_by_sample_coding_0 = df[df['coding'] == 0].drop(columns=['variant', 'coding']).groupby('SAMPLE').sum()\n",
    "counts_by_sample_coding_0 = counts_by_sample_coding_0.add_prefix('nc_')\n",
    "proportions_coding_0 = df[df['coding'] == 0].drop(columns=['variant', 'coding']).groupby('SAMPLE').apply(lambda x: (x == 1).mean())\n",
    "proportions_coding_0 = proportions_coding_0.add_prefix('prop_nc_')\n",
    "\n",
    "counts_combined = pd.concat([counts_by_sample_coding_1, counts_by_sample_coding_0], axis=1)\n",
    "counts_combined_with_proportions = pd.concat([counts_combined, proportions_coding_1, proportions_coding_0], axis=1)\n",
    "\n",
    "# Remove unwanted columns\n",
    "for col in list(counts_combined_with_proportions.columns):\n",
    "    if any(f\"nc_\" in col and vt in col for vt in varianttype_cols_coding_1) or \\\n",
    "       any(f\"cd_\" in col and vt in col for vt in varianttype_cols_coding_0):\n",
    "        counts_combined_with_proportions = counts_combined_with_proportions.drop(columns=[col])\n",
    "\n",
    "counts_combined_with_proportions = counts_combined_with_proportions.drop(columns=[col for col in counts_combined_with_proportions.columns if 'SAMPLE' in col])\n",
    "counts_combined_with_proportions = counts_combined_with_proportions.reset_index().fillna(0)"
   ]
  },
  {
   "cell_type": "code",
   "execution_count": 30,
   "metadata": {},
   "outputs": [
    {
     "name": "stdout",
     "output_type": "stream",
     "text": [
      "['nc_SP_DDD285_promoter', 'nc_END_FMRPDarnell_promoter', 'nc_None_DDD285_promoter', 'nc_MGE.dev_ASD185_promoter', 'nc_CGE.dev_DDD285_promoter', 'nc_None_None_promoter', 'nc_None_FMRPDarnell_promoter', 'nc_PER_None_promoter', 'nc_AST_ASD185_promoter', 'nc_L2.3_FMRPDarnell_promoter', 'nc_MG_None_promoter', 'nc_CGE.dev_None_promoter', 'nc_SP_CHD8Common_promoter', 'nc_MGE.dev_CHD8Common_promoter', 'nc_L4_FMRPDarnell_promoter', 'nc_OL_None_promoter', 'nc_SP_None_promoter', 'nc_AST_CHD8Common_promoter', 'nc_OL_CHD8Common_promoter', 'nc_None_ASD185_promoter', 'nc_L4_ASD185_promoter', 'nc_AST_FMRPDarnell_promoter', 'nc_END_CHD8Common_promoter', 'nc_L2.3_None_promoter', 'nc_L4_None_promoter', 'nc_AST_DDD285_promoter', 'nc_L5_FMRPDarnell_promoter', 'nc_MGE.dev_DDD285_promoter', 'nc_MGE.dev_None_promoter', 'nc_CGE.dev_FMRPDarnell_promoter', 'nc_L5.6.IT_FMRPDarnell_promoter', 'nc_MG_ASD185_promoter', 'nc_L4_CHD8Common_promoter', 'nc_AST_None_promoter', 'nc_MGE.dev_FMRPDarnell_promoter', 'nc_MG_FMRPDarnell_promoter', 'nc_PER_FMRPDarnell_promoter', 'nc_L5_CHD8Common_promoter', 'nc_L6_None_promoter', 'nc_None_CHD8Common_promoter', 'nc_CGE.dev_CHD8Common_promoter', 'nc_L5.6.IT_None_promoter', 'nc_END_None_promoter', 'nc_L2.3_CHD8Common_promoter', 'nc_L5_None_promoter', 'nc_MG_CHD8Common_promoter', 'nc_L6_FMRPDarnell_promoter', 'nc_L6_ASD185_promoter', 'nc_PER_CHD8Common_promoter', 'nc_L6_CHD8Common_promoter', 'nc_OL_FMRPDarnell_promoter', 'nc_L5.6.IT_CHD8Common_promoter', 'nc_OL_ASD185_promoter', 'nc_SP_FMRPDarnell_promoter', 'nc_L5_DDD285_promoter', 'prop_nc_SP_DDD285_promoter', 'prop_nc_END_FMRPDarnell_promoter', 'prop_nc_None_DDD285_promoter', 'prop_nc_MGE.dev_ASD185_promoter', 'prop_nc_CGE.dev_DDD285_promoter', 'prop_nc_None_None_promoter', 'prop_nc_None_FMRPDarnell_promoter', 'prop_nc_PER_None_promoter', 'prop_nc_AST_ASD185_promoter', 'prop_nc_L2.3_FMRPDarnell_promoter', 'prop_nc_MG_None_promoter', 'prop_nc_CGE.dev_None_promoter', 'prop_nc_SP_CHD8Common_promoter', 'prop_nc_MGE.dev_CHD8Common_promoter', 'prop_nc_L4_FMRPDarnell_promoter', 'prop_nc_OL_None_promoter', 'prop_nc_SP_None_promoter', 'prop_nc_AST_CHD8Common_promoter', 'prop_nc_OL_CHD8Common_promoter', 'prop_nc_None_ASD185_promoter', 'prop_nc_L4_ASD185_promoter', 'prop_nc_AST_FMRPDarnell_promoter', 'prop_nc_END_CHD8Common_promoter', 'prop_nc_L2.3_None_promoter', 'prop_nc_L4_None_promoter', 'prop_nc_AST_DDD285_promoter', 'prop_nc_L5_FMRPDarnell_promoter', 'prop_nc_MGE.dev_DDD285_promoter', 'prop_nc_MGE.dev_None_promoter', 'prop_nc_CGE.dev_FMRPDarnell_promoter', 'prop_nc_L5.6.IT_FMRPDarnell_promoter', 'prop_nc_MG_ASD185_promoter', 'prop_nc_L4_CHD8Common_promoter', 'prop_nc_AST_None_promoter', 'prop_nc_MGE.dev_FMRPDarnell_promoter', 'prop_nc_MG_FMRPDarnell_promoter', 'prop_nc_PER_FMRPDarnell_promoter', 'prop_nc_L5_CHD8Common_promoter', 'prop_nc_L6_None_promoter', 'prop_nc_None_CHD8Common_promoter', 'prop_nc_CGE.dev_CHD8Common_promoter', 'prop_nc_L5.6.IT_None_promoter', 'prop_nc_END_None_promoter', 'prop_nc_L2.3_CHD8Common_promoter', 'prop_nc_L5_None_promoter', 'prop_nc_MG_CHD8Common_promoter', 'prop_nc_L6_FMRPDarnell_promoter', 'prop_nc_L6_ASD185_promoter', 'prop_nc_PER_CHD8Common_promoter', 'prop_nc_L6_CHD8Common_promoter', 'prop_nc_OL_FMRPDarnell_promoter', 'prop_nc_L5.6.IT_CHD8Common_promoter', 'prop_nc_OL_ASD185_promoter', 'prop_nc_SP_FMRPDarnell_promoter', 'prop_nc_L5_DDD285_promoter']\n"
     ]
    }
   ],
   "source": [
    "# PTV가 포함된 컬럼 출력\n",
    "ptv_columns = [col for col in counts_combined_with_proportions.columns if \"promoter\" in col]\n",
    "print(ptv_columns)\n"
   ]
  },
  {
   "cell_type": "code",
   "execution_count": 31,
   "metadata": {},
   "outputs": [],
   "source": [
    "counts_combined_with_proportions.to_csv(\"/data2/deepLN/kor_sfari_mssng.coding_combinations.agg_by_sample.20250307.tsv.gz\", sep=\"\\t\", index=False, compression=\"gzip\")"
   ]
  }
 ],
 "metadata": {
  "kernelspec": {
   "display_name": "cluster",
   "language": "python",
   "name": "python3"
  },
  "language_info": {
   "codemirror_mode": {
    "name": "ipython",
    "version": 3
   },
   "file_extension": ".py",
   "mimetype": "text/x-python",
   "name": "python",
   "nbconvert_exporter": "python",
   "pygments_lexer": "ipython3",
   "version": "3.10.15"
  }
 },
 "nbformat": 4,
 "nbformat_minor": 2
}
